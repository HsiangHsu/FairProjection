{
 "cells": [
  {
   "cell_type": "code",
   "execution_count": 1,
   "metadata": {},
   "outputs": [
    {
     "name": "stderr",
     "output_type": "stream",
     "text": [
      "/Users/haewon/miniconda3/envs/FACT2/lib/python3.6/site-packages/sklearn/ensemble/weight_boosting.py:29: DeprecationWarning: numpy.core.umath_tests is an internal NumPy module and should not be imported. It will be removed in a future NumPy release.\n",
      "  from numpy.core.umath_tests import inner1d\n"
     ]
    }
   ],
   "source": [
    "%load_ext autoreload\n",
    "%autoreload 2\n",
    "%matplotlib inline\n",
    "import pandas as pd\n",
    "import numpy as np\n",
    "\n",
    "import scipy as scp\n",
    "import sklearn\n",
    "import sys, os, pickle\n",
    "\n",
    "sys.path.append(os.path.join('..'))\n",
    "\n",
    "from FACT.helper import *\n",
    "from FACT.fairness import *\n",
    "from FACT.data_util import *\n",
    "from FACT.plot import *\n",
    "from FACT.lin_opt import *"
   ]
  },
  {
   "cell_type": "code",
   "execution_count": 2,
   "metadata": {},
   "outputs": [],
   "source": [
    "from sklearn.model_selection import train_test_split"
   ]
  },
  {
   "cell_type": "code",
   "execution_count": 3,
   "metadata": {},
   "outputs": [],
   "source": [
    "DATANAME='adult'\n",
    "X_train, y_train, X_test, y_test, X_train_removed, X_test_removed, dtypes, dtypes_, sens_idc, race_idx, sex_idx = get_dataset(DATANAME)"
   ]
  },
  {
   "cell_type": "code",
   "execution_count": 4,
   "metadata": {},
   "outputs": [
    {
     "data": {
      "text/plain": [
       "((22792, 12), (22792, 10), (22792,))"
      ]
     },
     "execution_count": 4,
     "metadata": {},
     "output_type": "execute_result"
    }
   ],
   "source": [
    "X_train.shape, X_train_removed.shape, y_train.shape"
   ]
  },
  {
   "cell_type": "code",
   "execution_count": null,
   "metadata": {},
   "outputs": [],
   "source": []
  },
  {
   "cell_type": "code",
   "execution_count": 5,
   "metadata": {},
   "outputs": [
    {
     "name": "stdout",
     "output_type": "stream",
     "text": [
      "Training {'estimator': GridSearchCV(cv=StratifiedKFold(n_splits=5, random_state=0, shuffle=False),\n",
      "       error_score='raise',\n",
      "       estimator=Pipeline(memory=None,\n",
      "     steps=[('onehotencoder', OneHotEncoder(categorical_features=array([False, False, False, False,  True,  True,  True,  True,  True,\n",
      "        True]),\n",
      "       dtype=<class 'numpy.float64'>, handle_unknown='error',\n",
      "       n_values='auto', sparse=False)), ('standardscaler', StandardScaler(copy=True, with_me...ty='l2', random_state=None, solver='liblinear', tol=0.0001,\n",
      "          verbose=0, warm_start=False))]),\n",
      "       fit_params=None, iid=False, n_jobs=1,\n",
      "       param_grid={'logisticregression__C': array([0.0001, 0.1   ])},\n",
      "       pre_dispatch='2*n_jobs', refit=True, return_train_score=True,\n",
      "       scoring='accuracy', verbose=0), 'get_model': <function create_model.<locals>.get_model at 0x7f9a219bad90>, 'model_name': 'LogisticRegression'}\n"
     ]
    }
   ],
   "source": [
    "try:\n",
    "    #grid_base =  pickle.load(open('model_adult_base.pkl', 'rb'))[0]\n",
    "    grid =  pickle.load(open('model_adult.pkl', 'rb'))[0]\n",
    "    #model_base = grid_base.best_estimator_.named_steps['logisticregression']\n",
    "    model = grid.best_estimator_.named_steps['logisticregression']\n",
    "except:\n",
    "    model_names = ['LogisticRegression']\n",
    "    result = create_and_train_models(model_names, dtypes_, X_train_removed, y_train, X_test=X_test_removed, y_test=y_test, save=True, data_name=DATANAME)\n",
    "    #result_base = create_and_train_models(model_names, dtypes, X_train, y_train, X_test=X_test, y_test=y_test, save=True, data_name=DATANAME + '_base')\n",
    "    #model_base = result_base[0]['estimator']\n",
    "    model = result[0]['estimator']"
   ]
  },
  {
   "cell_type": "code",
   "execution_count": 6,
   "metadata": {},
   "outputs": [],
   "source": [
    "# Get fairness matrix information\n",
    "fm = FairnessMeasures(X_train, \n",
    "                      y_train, \n",
    "                      X_test, \n",
    "                      y_test, \n",
    "                      X_train_removed, \n",
    "                      X_test_removed, \n",
    "                      model, \n",
    "                      sex_idx, \n",
    "                      pos_label=1, \n",
    "                      neg_label=0)\n",
    "\n",
    "mats, mats_dict, M_const, b_const = get_fairness_mats(fm)"
   ]
  },
  {
   "cell_type": "code",
   "execution_count": 7,
   "metadata": {},
   "outputs": [
    {
     "name": "stdout",
     "output_type": "stream",
     "text": [
      "0.08295690591794794\n"
     ]
    }
   ],
   "source": [
    "tpr_diff, fpr_diff = fm.equalized_odds_diff()\n",
    "meo = np.abs(tpr_diff + fpr_diff)/2\n",
    "print(meo)"
   ]
  },
  {
   "cell_type": "code",
   "execution_count": 8,
   "metadata": {},
   "outputs": [
    {
     "name": "stdout",
     "output_type": "stream",
     "text": [
      "['EqOdd', 'Calibration']\tFalse\tNone\n",
      "['EqOdd', 'PosClassBal']\tTrue\t0.23686779050537868\n",
      "['EqOdd', 'NegClassBal']\tTrue\t0.23687069783024092\n",
      "['EqOdd', 'ClassBal']\tTrue\t0.23686779050537812\n",
      "['EqOdd', 'PredEqual']\tTrue\t0.23687069783024065\n",
      "['EqOdd', 'EqOpp']\tTrue\t0.23687069783024622\n",
      "['EqOdd', 'DemoParity']\tTrue\t0.23686670012609065\n",
      "['Calibration', 'PosClassBal']\tFalse\tNone\n",
      "['Calibration', 'NegClassBal']\tFalse\tNone\n",
      "['Calibration', 'ClassBal']\tFalse\tNone\n",
      "['Calibration', 'PredEqual']\tFalse\tNone\n",
      "['Calibration', 'EqOpp']\tFalse\tNone\n",
      "['Calibration', 'DemoParity']\tFalse\tNone\n",
      "['PosClassBal', 'NegClassBal']\tTrue\t5.551115123125783e-16\n",
      "['PosClassBal', 'ClassBal']\tTrue\t5.551115123125783e-16\n",
      "['PosClassBal', 'PredEqual']\tTrue\t5.551115123125783e-16\n",
      "['PosClassBal', 'EqOpp']\tTrue\t0.23686779050538145\n",
      "['PosClassBal', 'DemoParity']\tTrue\t0.06537660169483518\n",
      "['NegClassBal', 'ClassBal']\tTrue\t5.551115123125783e-16\n",
      "['NegClassBal', 'PredEqual']\tTrue\t5.551115123125783e-16\n",
      "['NegClassBal', 'EqOpp']\tTrue\t0.23687069783024262\n",
      "['NegClassBal', 'DemoParity']\tTrue\t0.13186592968776992\n",
      "['ClassBal', 'PredEqual']\tTrue\t5.551115123125783e-16\n",
      "['ClassBal', 'EqOpp']\tTrue\t0.2368677905053857\n",
      "['ClassBal', 'DemoParity']\tTrue\t0.2368680003534517\n",
      "['PredEqual', 'EqOpp']\tTrue\t0.23687069783024334\n",
      "['PredEqual', 'DemoParity']\tTrue\t0.1318654719175185\n",
      "['EqOpp', 'DemoParity']\tTrue\t0.23686687041278984\n",
      "['EqOdd', 'Calibration', 'PosClassBal']\tFalse\tNone\n",
      "['EqOdd', 'Calibration', 'NegClassBal']\tFalse\tNone\n",
      "['EqOdd', 'Calibration', 'ClassBal']\tFalse\tNone\n",
      "['EqOdd', 'Calibration', 'PredEqual']\tFalse\tNone\n",
      "['EqOdd', 'Calibration', 'EqOpp']\tFalse\tNone\n",
      "['EqOdd', 'Calibration', 'DemoParity']\tFalse\tNone\n",
      "['EqOdd', 'PosClassBal', 'NegClassBal']\tTrue\t0.23686779050537812\n",
      "['EqOdd', 'PosClassBal', 'ClassBal']\tTrue\t0.2368676148356171\n",
      "['EqOdd', 'PosClassBal', 'PredEqual']\tTrue\t0.2368677905053868\n",
      "['EqOdd', 'PosClassBal', 'EqOpp']\tTrue\t0.23686885614090467\n",
      "['EqOdd', 'PosClassBal', 'DemoParity']\tTrue\t0.23686826103483494\n",
      "['EqOdd', 'NegClassBal', 'ClassBal']\tTrue\t0.2368677905053905\n",
      "['EqOdd', 'NegClassBal', 'PredEqual']\tTrue\t0.2368706978302402\n",
      "['EqOdd', 'NegClassBal', 'EqOpp']\tTrue\t0.23687069783024342\n",
      "['EqOdd', 'NegClassBal', 'DemoParity']\tTrue\t0.2368670951020143\n",
      "['EqOdd', 'ClassBal', 'PredEqual']\tTrue\t0.23686779050537826\n",
      "['EqOdd', 'ClassBal', 'EqOpp']\tTrue\t0.2368688561408964\n",
      "['EqOdd', 'ClassBal', 'DemoParity']\tTrue\t0.23686794509839323\n",
      "['EqOdd', 'PredEqual', 'EqOpp']\tTrue\t0.23687069783024323\n",
      "['EqOdd', 'PredEqual', 'DemoParity']\tTrue\t0.2368679920515833\n",
      "['EqOdd', 'EqOpp', 'DemoParity']\tTrue\t0.2368678385647766\n",
      "['Calibration', 'PosClassBal', 'NegClassBal']\tFalse\tNone\n",
      "['Calibration', 'PosClassBal', 'ClassBal']\tFalse\tNone\n",
      "['Calibration', 'PosClassBal', 'PredEqual']\tFalse\tNone\n",
      "['Calibration', 'PosClassBal', 'EqOpp']\tFalse\tNone\n",
      "['Calibration', 'PosClassBal', 'DemoParity']\tFalse\tNone\n",
      "['Calibration', 'NegClassBal', 'ClassBal']\tFalse\tNone\n",
      "['Calibration', 'NegClassBal', 'PredEqual']\tFalse\tNone\n",
      "['Calibration', 'NegClassBal', 'EqOpp']\tFalse\tNone\n",
      "['Calibration', 'NegClassBal', 'DemoParity']\tFalse\tNone\n",
      "['Calibration', 'ClassBal', 'PredEqual']\tFalse\tNone\n",
      "['Calibration', 'ClassBal', 'EqOpp']\tFalse\tNone\n",
      "['Calibration', 'ClassBal', 'DemoParity']\tFalse\tNone\n",
      "['Calibration', 'PredEqual', 'EqOpp']\tFalse\tNone\n",
      "['Calibration', 'PredEqual', 'DemoParity']\tFalse\tNone\n",
      "['Calibration', 'EqOpp', 'DemoParity']\tFalse\tNone\n",
      "['PosClassBal', 'NegClassBal', 'ClassBal']\tTrue\t5.551115123125783e-16\n",
      "['PosClassBal', 'NegClassBal', 'PredEqual']\tTrue\t5.551115123125783e-16\n",
      "['PosClassBal', 'NegClassBal', 'EqOpp']\tTrue\t0.2368677905053857\n",
      "['PosClassBal', 'NegClassBal', 'DemoParity']\tTrue\t0.2368680003534517\n",
      "['PosClassBal', 'ClassBal', 'PredEqual']\tTrue\t5.551115123125783e-16\n",
      "['PosClassBal', 'ClassBal', 'EqOpp']\tTrue\t0.23686761483559818\n",
      "['PosClassBal', 'ClassBal', 'DemoParity']\tTrue\t0.23686857068018494\n",
      "['PosClassBal', 'PredEqual', 'EqOpp']\tTrue\t0.23686779050538842\n",
      "['PosClassBal', 'PredEqual', 'DemoParity']\tTrue\t0.23686742266657584\n",
      "['PosClassBal', 'EqOpp', 'DemoParity']\tTrue\t0.23686790413436598\n",
      "['NegClassBal', 'ClassBal', 'PredEqual']\tTrue\t5.551115123125783e-16\n",
      "['NegClassBal', 'ClassBal', 'EqOpp']\tTrue\t0.23686779050538964\n",
      "['NegClassBal', 'ClassBal', 'DemoParity']\tTrue\t0.2368684749350455\n",
      "['NegClassBal', 'PredEqual', 'EqOpp']\tTrue\t0.23687069783024206\n",
      "['NegClassBal', 'PredEqual', 'DemoParity']\tTrue\t0.13186471964491123\n",
      "['NegClassBal', 'EqOpp', 'DemoParity']\tTrue\t0.23686722455206283\n",
      "['ClassBal', 'PredEqual', 'EqOpp']\tTrue\t0.2368677905053817\n",
      "['ClassBal', 'PredEqual', 'DemoParity']\tTrue\t0.23686786050122421\n",
      "['ClassBal', 'EqOpp', 'DemoParity']\tTrue\t0.2368683724261097\n",
      "['PredEqual', 'EqOpp', 'DemoParity']\tTrue\t0.23686670012609065\n",
      "['EqOdd', 'Calibration', 'PosClassBal', 'NegClassBal']\tFalse\tNone\n",
      "['EqOdd', 'Calibration', 'PosClassBal', 'ClassBal']\tFalse\tNone\n",
      "['EqOdd', 'Calibration', 'PosClassBal', 'PredEqual']\tFalse\tNone\n",
      "['EqOdd', 'Calibration', 'PosClassBal', 'EqOpp']\tFalse\tNone\n",
      "['EqOdd', 'Calibration', 'PosClassBal', 'DemoParity']\tFalse\tNone\n",
      "['EqOdd', 'Calibration', 'NegClassBal', 'ClassBal']\tFalse\tNone\n",
      "['EqOdd', 'Calibration', 'NegClassBal', 'PredEqual']\tFalse\tNone\n",
      "['EqOdd', 'Calibration', 'NegClassBal', 'EqOpp']\tFalse\tNone\n",
      "['EqOdd', 'Calibration', 'NegClassBal', 'DemoParity']\tFalse\tNone\n",
      "['EqOdd', 'Calibration', 'ClassBal', 'PredEqual']\tFalse\tNone\n",
      "['EqOdd', 'Calibration', 'ClassBal', 'EqOpp']\tFalse\tNone\n",
      "['EqOdd', 'Calibration', 'ClassBal', 'DemoParity']\tFalse\tNone\n",
      "['EqOdd', 'Calibration', 'PredEqual', 'EqOpp']\tFalse\tNone\n",
      "['EqOdd', 'Calibration', 'PredEqual', 'DemoParity']\tFalse\tNone\n",
      "['EqOdd', 'Calibration', 'EqOpp', 'DemoParity']\tFalse\tNone\n",
      "['EqOdd', 'PosClassBal', 'NegClassBal', 'ClassBal']\tTrue\t0.23686761483561652\n",
      "['EqOdd', 'PosClassBal', 'NegClassBal', 'PredEqual']\tTrue\t0.23686779050537826\n",
      "['EqOdd', 'PosClassBal', 'NegClassBal', 'EqOpp']\tTrue\t0.2368688561408964\n",
      "['EqOdd', 'PosClassBal', 'NegClassBal', 'DemoParity']\tTrue\t0.23686794509839323\n",
      "['EqOdd', 'PosClassBal', 'ClassBal', 'PredEqual']\tTrue\t0.23686761483561306\n",
      "['EqOdd', 'PosClassBal', 'ClassBal', 'EqOpp']\tTrue\t0.2368677905053946\n",
      "['EqOdd', 'PosClassBal', 'ClassBal', 'DemoParity']\tTrue\t0.23686841515512866\n",
      "['EqOdd', 'PosClassBal', 'PredEqual', 'EqOpp']\tTrue\t0.236868856140917\n",
      "['EqOdd', 'PosClassBal', 'PredEqual', 'DemoParity']\tTrue\t0.2368686020635598\n",
      "['EqOdd', 'PosClassBal', 'EqOpp', 'DemoParity']\tTrue\t0.23686788133614542\n",
      "['EqOdd', 'NegClassBal', 'ClassBal', 'PredEqual']\tTrue\t0.23686779050538642\n",
      "['EqOdd', 'NegClassBal', 'ClassBal', 'EqOpp']\tTrue\t0.23686885614089848\n",
      "['EqOdd', 'NegClassBal', 'ClassBal', 'DemoParity']\tTrue\t0.23686727608575447\n",
      "['EqOdd', 'NegClassBal', 'PredEqual', 'EqOpp']\tTrue\t0.23687069783024153\n",
      "['EqOdd', 'NegClassBal', 'PredEqual', 'DemoParity']\tTrue\t0.23686641790517074\n",
      "['EqOdd', 'NegClassBal', 'EqOpp', 'DemoParity']\tTrue\t0.23686862791248922\n",
      "['EqOdd', 'ClassBal', 'PredEqual', 'EqOpp']\tTrue\t0.23686885614089656\n",
      "['EqOdd', 'ClassBal', 'PredEqual', 'DemoParity']\tTrue\t0.23686780488878947\n",
      "['EqOdd', 'ClassBal', 'EqOpp', 'DemoParity']\tTrue\t0.2368648712800734\n",
      "['EqOdd', 'PredEqual', 'EqOpp', 'DemoParity']\tTrue\t0.23686492326392403\n",
      "['Calibration', 'PosClassBal', 'NegClassBal', 'ClassBal']\tFalse\tNone\n",
      "['Calibration', 'PosClassBal', 'NegClassBal', 'PredEqual']\tFalse\tNone\n",
      "['Calibration', 'PosClassBal', 'NegClassBal', 'EqOpp']\tFalse\tNone\n",
      "['Calibration', 'PosClassBal', 'NegClassBal', 'DemoParity']\tFalse\tNone\n",
      "['Calibration', 'PosClassBal', 'ClassBal', 'PredEqual']\tFalse\tNone\n",
      "['Calibration', 'PosClassBal', 'ClassBal', 'EqOpp']\tFalse\tNone\n",
      "['Calibration', 'PosClassBal', 'ClassBal', 'DemoParity']\tFalse\tNone\n",
      "['Calibration', 'PosClassBal', 'PredEqual', 'EqOpp']\tFalse\tNone\n",
      "['Calibration', 'PosClassBal', 'PredEqual', 'DemoParity']\tFalse\tNone\n",
      "['Calibration', 'PosClassBal', 'EqOpp', 'DemoParity']\tFalse\tNone\n",
      "['Calibration', 'NegClassBal', 'ClassBal', 'PredEqual']\tFalse\tNone\n",
      "['Calibration', 'NegClassBal', 'ClassBal', 'EqOpp']\tFalse\tNone\n",
      "['Calibration', 'NegClassBal', 'ClassBal', 'DemoParity']\tFalse\tNone\n",
      "['Calibration', 'NegClassBal', 'PredEqual', 'EqOpp']\tFalse\tNone\n",
      "['Calibration', 'NegClassBal', 'PredEqual', 'DemoParity']\tFalse\tNone\n",
      "['Calibration', 'NegClassBal', 'EqOpp', 'DemoParity']\tFalse\tNone\n",
      "['Calibration', 'ClassBal', 'PredEqual', 'EqOpp']\tFalse\tNone\n",
      "['Calibration', 'ClassBal', 'PredEqual', 'DemoParity']\tFalse\tNone\n",
      "['Calibration', 'ClassBal', 'EqOpp', 'DemoParity']\tFalse\tNone\n",
      "['Calibration', 'PredEqual', 'EqOpp', 'DemoParity']\tFalse\tNone\n",
      "['PosClassBal', 'NegClassBal', 'ClassBal', 'PredEqual']\tTrue\t5.551115123125783e-16\n",
      "['PosClassBal', 'NegClassBal', 'ClassBal', 'EqOpp']\tTrue\t0.23686761483557828\n",
      "['PosClassBal', 'NegClassBal', 'ClassBal', 'DemoParity']\tTrue\t0.236868505264832\n",
      "['PosClassBal', 'NegClassBal', 'PredEqual', 'EqOpp']\tTrue\t0.2368677905053817\n",
      "['PosClassBal', 'NegClassBal', 'PredEqual', 'DemoParity']\tTrue\t0.23686786050122421\n",
      "['PosClassBal', 'NegClassBal', 'EqOpp', 'DemoParity']\tTrue\t0.2368683724261097\n",
      "['PosClassBal', 'ClassBal', 'PredEqual', 'EqOpp']\tTrue\t0.2368676148355797\n",
      "['PosClassBal', 'ClassBal', 'PredEqual', 'DemoParity']\tTrue\t0.2368676111753222\n",
      "['PosClassBal', 'ClassBal', 'EqOpp', 'DemoParity']\tTrue\t0.23686825100003317\n",
      "['PosClassBal', 'PredEqual', 'EqOpp', 'DemoParity']\tTrue\t0.23686826103477684\n",
      "['NegClassBal', 'ClassBal', 'PredEqual', 'EqOpp']\tTrue\t0.23686779050538365\n",
      "['NegClassBal', 'ClassBal', 'PredEqual', 'DemoParity']\tTrue\t0.2368661672278641\n",
      "['NegClassBal', 'ClassBal', 'EqOpp', 'DemoParity']\tTrue\t0.236851239057652\n",
      "['NegClassBal', 'PredEqual', 'EqOpp', 'DemoParity']\tTrue\t0.23686709510442455\n",
      "['ClassBal', 'PredEqual', 'EqOpp', 'DemoParity']\tTrue\t0.23686794509843262\n",
      "['EqOdd', 'Calibration', 'PosClassBal', 'NegClassBal', 'ClassBal']\tFalse\tNone\n",
      "['EqOdd', 'Calibration', 'PosClassBal', 'NegClassBal', 'PredEqual']\tFalse\tNone\n",
      "['EqOdd', 'Calibration', 'PosClassBal', 'NegClassBal', 'EqOpp']\tFalse\tNone\n",
      "['EqOdd', 'Calibration', 'PosClassBal', 'NegClassBal', 'DemoParity']\tFalse\tNone\n",
      "['EqOdd', 'Calibration', 'PosClassBal', 'ClassBal', 'PredEqual']\tFalse\tNone\n",
      "['EqOdd', 'Calibration', 'PosClassBal', 'ClassBal', 'EqOpp']\tFalse\tNone\n",
      "['EqOdd', 'Calibration', 'PosClassBal', 'ClassBal', 'DemoParity']\tFalse\tNone\n",
      "['EqOdd', 'Calibration', 'PosClassBal', 'PredEqual', 'EqOpp']\tFalse\tNone\n",
      "['EqOdd', 'Calibration', 'PosClassBal', 'PredEqual', 'DemoParity']\tFalse\tNone\n",
      "['EqOdd', 'Calibration', 'PosClassBal', 'EqOpp', 'DemoParity']\tFalse\tNone\n",
      "['EqOdd', 'Calibration', 'NegClassBal', 'ClassBal', 'PredEqual']\tFalse\tNone\n",
      "['EqOdd', 'Calibration', 'NegClassBal', 'ClassBal', 'EqOpp']\tFalse\tNone\n",
      "['EqOdd', 'Calibration', 'NegClassBal', 'ClassBal', 'DemoParity']\tFalse\tNone\n",
      "['EqOdd', 'Calibration', 'NegClassBal', 'PredEqual', 'EqOpp']\tFalse\tNone\n",
      "['EqOdd', 'Calibration', 'NegClassBal', 'PredEqual', 'DemoParity']\tFalse\tNone\n",
      "['EqOdd', 'Calibration', 'NegClassBal', 'EqOpp', 'DemoParity']\tFalse\tNone\n",
      "['EqOdd', 'Calibration', 'ClassBal', 'PredEqual', 'EqOpp']\tFalse\tNone\n",
      "['EqOdd', 'Calibration', 'ClassBal', 'PredEqual', 'DemoParity']\tFalse\tNone\n",
      "['EqOdd', 'Calibration', 'ClassBal', 'EqOpp', 'DemoParity']\tFalse\tNone\n",
      "['EqOdd', 'Calibration', 'PredEqual', 'EqOpp', 'DemoParity']\tFalse\tNone\n",
      "['EqOdd', 'PosClassBal', 'NegClassBal', 'ClassBal', 'PredEqual']\tTrue\t0.23686761483560828\n",
      "['EqOdd', 'PosClassBal', 'NegClassBal', 'ClassBal', 'EqOpp']\tTrue\t0.23686779050539114\n",
      "['EqOdd', 'PosClassBal', 'NegClassBal', 'ClassBal', 'DemoParity']\tTrue\t0.2368676403984186\n",
      "['EqOdd', 'PosClassBal', 'NegClassBal', 'PredEqual', 'EqOpp']\tTrue\t0.23686885614089656\n",
      "['EqOdd', 'PosClassBal', 'NegClassBal', 'PredEqual', 'DemoParity']\tTrue\t0.23686780488878947\n",
      "['EqOdd', 'PosClassBal', 'NegClassBal', 'EqOpp', 'DemoParity']\tTrue\t0.2368648712800734\n",
      "['EqOdd', 'PosClassBal', 'ClassBal', 'PredEqual', 'EqOpp']\tTrue\t0.23686779050538204\n",
      "['EqOdd', 'PosClassBal', 'ClassBal', 'PredEqual', 'DemoParity']\tTrue\t0.23684897387267953\n",
      "['EqOdd', 'PosClassBal', 'ClassBal', 'EqOpp', 'DemoParity']\tTrue\t0.23686870462516027\n",
      "['EqOdd', 'PosClassBal', 'PredEqual', 'EqOpp', 'DemoParity']\tTrue\t0.23685195675620171\n",
      "['EqOdd', 'NegClassBal', 'ClassBal', 'PredEqual', 'EqOpp']\tTrue\t0.23686885614090825\n",
      "['EqOdd', 'NegClassBal', 'ClassBal', 'PredEqual', 'DemoParity']\tTrue\t0.23686755778042737\n",
      "['EqOdd', 'NegClassBal', 'ClassBal', 'EqOpp', 'DemoParity']\tTrue\t0.23685845124278218\n",
      "['EqOdd', 'NegClassBal', 'PredEqual', 'EqOpp', 'DemoParity']\tTrue\t0.2368688780197923\n",
      "['EqOdd', 'ClassBal', 'PredEqual', 'EqOpp', 'DemoParity']\tTrue\t0.23686625266053205\n",
      "['Calibration', 'PosClassBal', 'NegClassBal', 'ClassBal', 'PredEqual']\tFalse\tNone\n",
      "['Calibration', 'PosClassBal', 'NegClassBal', 'ClassBal', 'EqOpp']\tFalse\tNone\n",
      "['Calibration', 'PosClassBal', 'NegClassBal', 'ClassBal', 'DemoParity']\tFalse\tNone\n",
      "['Calibration', 'PosClassBal', 'NegClassBal', 'PredEqual', 'EqOpp']\tFalse\tNone\n",
      "['Calibration', 'PosClassBal', 'NegClassBal', 'PredEqual', 'DemoParity']\tFalse\tNone\n",
      "['Calibration', 'PosClassBal', 'NegClassBal', 'EqOpp', 'DemoParity']\tFalse\tNone\n",
      "['Calibration', 'PosClassBal', 'ClassBal', 'PredEqual', 'EqOpp']\tFalse\tNone\n",
      "['Calibration', 'PosClassBal', 'ClassBal', 'PredEqual', 'DemoParity']\tFalse\tNone\n",
      "['Calibration', 'PosClassBal', 'ClassBal', 'EqOpp', 'DemoParity']\tFalse\tNone\n",
      "['Calibration', 'PosClassBal', 'PredEqual', 'EqOpp', 'DemoParity']\tFalse\tNone\n",
      "['Calibration', 'NegClassBal', 'ClassBal', 'PredEqual', 'EqOpp']\tFalse\tNone\n",
      "['Calibration', 'NegClassBal', 'ClassBal', 'PredEqual', 'DemoParity']\tFalse\tNone\n",
      "['Calibration', 'NegClassBal', 'ClassBal', 'EqOpp', 'DemoParity']\tFalse\tNone\n",
      "['Calibration', 'NegClassBal', 'PredEqual', 'EqOpp', 'DemoParity']\tFalse\tNone\n",
      "['Calibration', 'ClassBal', 'PredEqual', 'EqOpp', 'DemoParity']\tFalse\tNone\n",
      "['PosClassBal', 'NegClassBal', 'ClassBal', 'PredEqual', 'EqOpp']\tTrue\t0.2368676148355784\n",
      "['PosClassBal', 'NegClassBal', 'ClassBal', 'PredEqual', 'DemoParity']\tTrue\t0.23686767021582672\n",
      "['PosClassBal', 'NegClassBal', 'ClassBal', 'EqOpp', 'DemoParity']\tTrue\t0.2368689847084852\n",
      "['PosClassBal', 'NegClassBal', 'PredEqual', 'EqOpp', 'DemoParity']\tTrue\t0.23686794509843262\n",
      "['PosClassBal', 'ClassBal', 'PredEqual', 'EqOpp', 'DemoParity']\tTrue\t0.2368684151552054\n",
      "['NegClassBal', 'ClassBal', 'PredEqual', 'EqOpp', 'DemoParity']\tTrue\t0.23686727608586766\n",
      "['EqOdd', 'Calibration', 'PosClassBal', 'NegClassBal', 'ClassBal', 'PredEqual']\tFalse\tNone\n",
      "['EqOdd', 'Calibration', 'PosClassBal', 'NegClassBal', 'ClassBal', 'EqOpp']\tFalse\tNone\n",
      "['EqOdd', 'Calibration', 'PosClassBal', 'NegClassBal', 'ClassBal', 'DemoParity']\tFalse\tNone\n",
      "['EqOdd', 'Calibration', 'PosClassBal', 'NegClassBal', 'PredEqual', 'EqOpp']\tFalse\tNone\n",
      "['EqOdd', 'Calibration', 'PosClassBal', 'NegClassBal', 'PredEqual', 'DemoParity']\tFalse\tNone\n",
      "['EqOdd', 'Calibration', 'PosClassBal', 'NegClassBal', 'EqOpp', 'DemoParity']\tFalse\tNone\n",
      "['EqOdd', 'Calibration', 'PosClassBal', 'ClassBal', 'PredEqual', 'EqOpp']\tFalse\tNone\n",
      "['EqOdd', 'Calibration', 'PosClassBal', 'ClassBal', 'PredEqual', 'DemoParity']\tFalse\tNone\n",
      "['EqOdd', 'Calibration', 'PosClassBal', 'ClassBal', 'EqOpp', 'DemoParity']\tFalse\tNone\n",
      "['EqOdd', 'Calibration', 'PosClassBal', 'PredEqual', 'EqOpp', 'DemoParity']\tFalse\tNone\n",
      "['EqOdd', 'Calibration', 'NegClassBal', 'ClassBal', 'PredEqual', 'EqOpp']\tFalse\tNone\n",
      "['EqOdd', 'Calibration', 'NegClassBal', 'ClassBal', 'PredEqual', 'DemoParity']\tFalse\tNone\n",
      "['EqOdd', 'Calibration', 'NegClassBal', 'ClassBal', 'EqOpp', 'DemoParity']\tFalse\tNone\n",
      "['EqOdd', 'Calibration', 'NegClassBal', 'PredEqual', 'EqOpp', 'DemoParity']\tFalse\tNone\n",
      "['EqOdd', 'Calibration', 'ClassBal', 'PredEqual', 'EqOpp', 'DemoParity']\tFalse\tNone\n",
      "['EqOdd', 'PosClassBal', 'NegClassBal', 'ClassBal', 'PredEqual', 'EqOpp']\tTrue\t0.2368677905053911\n",
      "['EqOdd', 'PosClassBal', 'NegClassBal', 'ClassBal', 'PredEqual', 'DemoParity']\tTrue\t0.23686459722953415\n",
      "['EqOdd', 'PosClassBal', 'NegClassBal', 'ClassBal', 'EqOpp', 'DemoParity']\tTrue\t0.23686899369333123\n",
      "['EqOdd', 'PosClassBal', 'NegClassBal', 'PredEqual', 'EqOpp', 'DemoParity']\tTrue\t0.23686625266053205\n",
      "['EqOdd', 'PosClassBal', 'ClassBal', 'PredEqual', 'EqOpp', 'DemoParity']\tTrue\t0.2368687835117562\n",
      "['EqOdd', 'NegClassBal', 'ClassBal', 'PredEqual', 'EqOpp', 'DemoParity']\tTrue\t0.23687012888617373\n",
      "['Calibration', 'PosClassBal', 'NegClassBal', 'ClassBal', 'PredEqual', 'EqOpp']\tFalse\tNone\n",
      "['Calibration', 'PosClassBal', 'NegClassBal', 'ClassBal', 'PredEqual', 'DemoParity']\tFalse\tNone\n",
      "['Calibration', 'PosClassBal', 'NegClassBal', 'ClassBal', 'EqOpp', 'DemoParity']\tFalse\tNone\n",
      "['Calibration', 'PosClassBal', 'NegClassBal', 'PredEqual', 'EqOpp', 'DemoParity']\tFalse\tNone\n",
      "['Calibration', 'PosClassBal', 'ClassBal', 'PredEqual', 'EqOpp', 'DemoParity']\tFalse\tNone\n",
      "['Calibration', 'NegClassBal', 'ClassBal', 'PredEqual', 'EqOpp', 'DemoParity']\tFalse\tNone\n",
      "['PosClassBal', 'NegClassBal', 'ClassBal', 'PredEqual', 'EqOpp', 'DemoParity']\tTrue\t0.23686764039852312\n",
      "['EqOdd', 'Calibration', 'PosClassBal', 'NegClassBal', 'ClassBal', 'PredEqual', 'EqOpp']\tFalse\tNone\n",
      "['EqOdd', 'Calibration', 'PosClassBal', 'NegClassBal', 'ClassBal', 'PredEqual', 'DemoParity']\tFalse\tNone\n",
      "['EqOdd', 'Calibration', 'PosClassBal', 'NegClassBal', 'ClassBal', 'EqOpp', 'DemoParity']\tFalse\tNone\n",
      "['EqOdd', 'Calibration', 'PosClassBal', 'NegClassBal', 'PredEqual', 'EqOpp', 'DemoParity']\tFalse\tNone\n",
      "['EqOdd', 'Calibration', 'PosClassBal', 'ClassBal', 'PredEqual', 'EqOpp', 'DemoParity']\tFalse\tNone\n",
      "['EqOdd', 'Calibration', 'NegClassBal', 'ClassBal', 'PredEqual', 'EqOpp', 'DemoParity']\tFalse\tNone\n",
      "['EqOdd', 'PosClassBal', 'NegClassBal', 'ClassBal', 'PredEqual', 'EqOpp', 'DemoParity']\tTrue\t0.2368683167134493\n",
      "['Calibration', 'PosClassBal', 'NegClassBal', 'ClassBal', 'PredEqual', 'EqOpp', 'DemoParity']\tFalse\tNone\n",
      "['EqOdd', 'Calibration', 'PosClassBal', 'NegClassBal', 'ClassBal', 'PredEqual', 'EqOpp', 'DemoParity']\tFalse\tNone\n"
     ]
    }
   ],
   "source": [
    "result = test_all_enumerations(fm, mats)"
   ]
  },
  {
   "cell_type": "code",
   "execution_count": 9,
   "metadata": {},
   "outputs": [
    {
     "name": "stdout",
     "output_type": "stream",
     "text": [
      "['EqOdd']\tTrue\t0.23687069783024334\n"
     ]
    },
    {
     "data": {
      "text/plain": [
       "'EOd &  o  & 0.7631\\\\ '"
      ]
     },
     "execution_count": 9,
     "metadata": {},
     "output_type": "execute_result"
    }
   ],
   "source": [
    "# some_names = [['PosClassBal', 'ClassBal'], \n",
    "#               ['PredEqual', 'NegClassBal'],\n",
    "#               ['EqOdd', 'DemoParity'],\n",
    "#               ['EqOdd', 'PosClassBal', 'DemoParity'],\n",
    "#               ['EqOdd', 'ClassBal', 'PredEqual', 'DemoParity'],\n",
    "#               ['EqOdd', 'ClassBal', 'PredEqual', 'EqOpp', 'DemoParity'],\n",
    "#               ['PosClassBal', 'DemoParity'], \n",
    "#               ['Calibration', 'ClassBal', 'EqOpp', 'DemoParity'],\n",
    "#               ['PosClassBal', 'NegClassBal', 'Calibration'],\n",
    "#              ]\n",
    "some_names = [\n",
    "    ['EqOdd']\n",
    "]\n",
    "dd = test_some_names(fm, some_names)\n",
    "res2text(dd)"
   ]
  },
  {
   "cell_type": "code",
   "execution_count": 10,
   "metadata": {},
   "outputs": [
    {
     "data": {
      "text/plain": [
       "<matplotlib.axes._subplots.AxesSubplot at 0x7f9a26fce9b0>"
      ]
     },
     "execution_count": 10,
     "metadata": {},
     "output_type": "execute_result"
    },
    {
     "data": {
      "image/png": "[encoded data removed]",
      "text/plain": [
       "<Figure size 288x144 with 1 Axes>"
      ]
     },
     "metadata": {
      "needs_background": "light"
     },
     "output_type": "display_data"
    }
   ],
   "source": [
    "# First get (eps, delta) pairs for optimizing over different lambdas\n",
    "lmbds_used = get_eps_delta_over_lambdas(mats_dict, M_const, b_const, some_names)\n",
    "\n",
    "# NOTE manually set up the group for colors\n",
    "groups = [0, 0, 1, 1, 1, 1, 2, 3, 4]\n",
    "colors = ['m', 'b', 'g', 'r', 'k']\n",
    "plot_eps_delta_curves(fm, \n",
    "                      some_names, \n",
    "                      lmbds_used, \n",
    "                      groups=groups, \n",
    "                      colors=colors, \n",
    "                      data_name='Adult',\n",
    "                      save=True)"
   ]
  },
  {
   "cell_type": "code",
   "execution_count": 11,
   "metadata": {},
   "outputs": [
    {
     "name": "stdout",
     "output_type": "stream",
     "text": [
      "0.0710960676978822\n"
     ]
    }
   ],
   "source": [
    "aaa = [2.87324470e-02, 1.73335318e-01, 8.53944736e-17, 4.66475586e-01, 6.56619941e-17, 3.48039717e-02, 2.37308452e-16, 2.96652677e-01]\n",
    "tp1 = aaa[0]\n",
    "fn1 = aaa[1]\n",
    "fp1 = aaa[2]\n",
    "tn1 = aaa[3]\n",
    "tp0 = aaa[4]\n",
    "fn0 = aaa[5]\n",
    "fp0 = aaa[6]\n",
    "tn0 = aaa[7]\n",
    "\n",
    "tpr0 = tp0/(tp0+fn0)\n",
    "tpr1 = tp1/(tp1+fn1)\n",
    "fpr0 = fp0/(fp0+tn0)\n",
    "fpr1 = fp1/(fp1+tn1)\n",
    "\n",
    "tpr_diff = tpr0-tpr1\n",
    "fpr_diff = fpr0-fpr1\n",
    "\n",
    "meo = np.abs(tpr_diff + fpr_diff)/2\n",
    "print(meo)\n"
   ]
  },
  {
   "cell_type": "code",
   "execution_count": 12,
   "metadata": {},
   "outputs": [],
   "source": [
    "acc, meo = accuracy_meo(fm, ['EqOdd'])"
   ]
  },
  {
   "cell_type": "code",
   "execution_count": 13,
   "metadata": {},
   "outputs": [],
   "source": [
    "save = {\n",
    "    'acc': acc,\n",
    "    'meo': meo\n",
    "}\n",
    "savename = 'adult-FACT' +'.pkl'\n",
    "with open(savename, 'wb+') as pickle_f:\n",
    "    pickle.dump(save, pickle_f, 2)"
   ]
  },
  {
   "cell_type": "code",
   "execution_count": 14,
   "metadata": {},
   "outputs": [
    {
     "data": {
      "text/plain": [
       "[<matplotlib.lines.Line2D at 0x7f9a0e208278>]"
      ]
     },
     "execution_count": 14,
     "metadata": {},
     "output_type": "execute_result"
    },
    {
     "data": {
      "image/png": "[encoded data removed]",
      "text/plain": [
       "<Figure size 432x288 with 1 Axes>"
      ]
     },
     "metadata": {
      "needs_background": "light"
     },
     "output_type": "display_data"
    }
   ],
   "source": [
    "ct = 410\n",
    "plt.plot(meo[ct:], acc[ct:])"
   ]
  },
  {
   "cell_type": "code",
   "execution_count": 78,
   "metadata": {},
   "outputs": [],
   "source": [
    "adult = np.array([[0.06919340071379061, 0.8428703040229297],\n",
    "[0.06857573548834281, 0.8426655747773569],\n",
    "[0.06811610403899716, 0.8420513870406388],\n",
    "[0.06811610403899718, 0.8422561162862114],\n",
    "[0.06811610403899718, 0.8424608455317842],\n",
    "[0.06811610403899718, 0.8418466577950661],\n",
    "[0.06811610403899716, 0.8420513870406388],\n",
    "[0.06811610403899718, 0.8418466577950661],\n",
    "[0.06811610403899718, 0.8422561162862114],\n",
    "[0.06811610403899719, 0.8416419285494933]])"
   ]
  },
  {
   "cell_type": "code",
   "execution_count": 79,
   "metadata": {},
   "outputs": [
    {
     "data": {
      "text/plain": [
       "(10, 2)"
      ]
     },
     "execution_count": 79,
     "metadata": {},
     "output_type": "execute_result"
    }
   ],
   "source": [
    "adult.shape"
   ]
  },
  {
   "cell_type": "code",
   "execution_count": 16,
   "metadata": {},
   "outputs": [
    {
     "name": "stdout",
     "output_type": "stream",
     "text": [
      "0.08295690591794794\n"
     ]
    }
   ],
   "source": [
    "tpr_diff, fpr_diff = fm.equalized_odds_diff()\n",
    "meo = np.abs(tpr_diff + fpr_diff)/2\n",
    "print(meo)"
   ]
  },
  {
   "cell_type": "code",
   "execution_count": 24,
   "metadata": {},
   "outputs": [
    {
     "data": {
      "text/plain": [
       "[0.0,\n",
       " 1.0,\n",
       " 17.78279410038923,\n",
       " 316.22776601683796,\n",
       " 5623.413251903491,\n",
       " 100000.0,\n",
       " 1778279.410038923]"
      ]
     },
     "execution_count": 24,
     "metadata": {},
     "output_type": "execute_result"
    }
   ],
   "source": [
    "lmbds_used[0][0]"
   ]
  },
  {
   "cell_type": "code",
   "execution_count": 45,
   "metadata": {},
   "outputs": [
    {
     "data": {
      "text/plain": [
       "[<matplotlib.lines.Line2D at 0x7f9f2a0c3208>]"
      ]
     },
     "execution_count": 45,
     "metadata": {},
     "output_type": "execute_result"
    },
    {
     "data": {
      "image/png": "[encoded data removed]",
      "text/plain": [
       "<Figure size 432x288 with 1 Axes>"
      ]
     },
     "metadata": {
      "needs_background": "light"
     },
     "output_type": "display_data"
    }
   ],
   "source": [
    "xxx = np.zeros((len(lmbds_used[0][1]),))\n",
    "yyy = np.zeros((len(lmbds_used[0][1]),))\n",
    "for i in range(len(lmbds_used[0][1])):\n",
    "    yyy[i] = lmbds_used[0][1][i][0]\n",
    "    xxx[i] = lmbds_used[0][1][i][1]\n",
    "plt.semilogx(xxx, 1-yyy)"
   ]
  },
  {
   "cell_type": "code",
   "execution_count": 44,
   "metadata": {},
   "outputs": [
    {
     "data": {
      "text/plain": [
       "[(0.9999999999999994, 0.00019783889773088113),\n",
       " (0.9999999999999998, 0.0001978388977308827),\n",
       " (0.9999999999999994, 0.00019783889773088148),\n",
       " (0.969115667015989, 6.122739243120544e-05),\n",
       " (0.836590760512405, 6.5371581902049e-06),\n",
       " (0.7672561283512658, 2.0639952169656077e-08),\n",
       " (0.7633603712803313, 6.525884160411891e-11)]"
      ]
     },
     "execution_count": 44,
     "metadata": {},
     "output_type": "execute_result"
    }
   ],
   "source": [
    "lmbds_used[0][1]"
   ]
  },
  {
   "cell_type": "code",
   "execution_count": 10,
   "metadata": {},
   "outputs": [],
   "source": [
    "def get_idx_wo_protected(feature_names, protected_attrs):\n",
    "    idx_wo_protected = set(range(len(feature_names)))\n",
    "    protected_attr_idx = [feature_names.index(x) for x in protected_attrs]\n",
    "    idx_wo_protected = list(idx_wo_protected - set(protected_attr_idx))\n",
    "    return idx_wo_protected\n",
    "\n",
    "def get_idx_w_protected(feature_names):\n",
    "    return list(set(range(len(feature_names))))\n",
    "\n",
    "def get_idx_protected(feature_names, protected_attrs):\n",
    "    protected_attr_idx = [feature_names.index(x) for x in protected_attrs]\n",
    "    idx_protected = list(set(protected_attr_idx))\n",
    "    return idx_protected\n",
    "\n",
    "def load_data(name='adult'):\n",
    "    \n",
    "    #% Processing for UCI-ADULT\n",
    "    if name == 'adult':\n",
    "        file = '../data/UCI-Adult/adult.data'\n",
    "        fileTest = '../data/UCI-Adult/adult.test'\n",
    "        \n",
    "        df = pd.read_csv(file, header=None,sep=',\\s+',engine='python')\n",
    "        dfTest = pd.read_csv(fileTest,header=None,skiprows=1,sep=',\\s+',engine='python') \n",
    "        \n",
    "        \n",
    "        columnNames = [\"age\", \"workclass\", \"fnlwgt\", \"education\", \"education-num\",\n",
    "    \"marital-status\", \"occupation\", \"relationship\", \"race\", \"gender\",\n",
    "    \"capital-gain\", \"capital-loss\", \"hours-per-week\", \"native-country\", \"income\"]\n",
    "        \n",
    "        df.columns = columnNames\n",
    "        dfTest.columns = columnNames\n",
    "        \n",
    "        df = df.append(dfTest)\n",
    "        \n",
    "        # drop columns that won't be used\n",
    "        dropCol = [\"fnlwgt\",\"workclass\",\"occupation\"]\n",
    "        df.drop(dropCol,inplace=True,axis=1)\n",
    "        \n",
    "        # keep only entries marked as ``White'' or ``Black''\n",
    "        ix = df['race'].isin(['White','Black'])\n",
    "        df = df.loc[ix,:]\n",
    "        \n",
    "        # binarize race\n",
    "        # Black = 0; White = 1\n",
    "        df.loc[:,'race'] = df['race'].apply(lambda x: 1 if x=='White' else 0)\n",
    "        \n",
    "        # binarize gender\n",
    "        # Female = 0; Male = 1\n",
    "        df.loc[:,'gender'] = df['gender'].apply(lambda x: 1 if x=='Male' else 0)\n",
    "        \n",
    "        # binarize income\n",
    "        # '>50k' = 1; '<=50k' = 0\n",
    "        df.loc[:,'income'] = df['income'].apply(lambda x: 1 if x[0]=='>' else 0)\n",
    "        \n",
    "        \n",
    "        # drop \"education\" and native-country (education already encoded in education-num)\n",
    "        features_to_drop = [\"education\",\"native-country\"]\n",
    "        df.drop(features_to_drop,inplace=True,axis=1)\n",
    "        \n",
    "        \n",
    "        \n",
    "        # create one-hot encoding\n",
    "        categorical_features = list(set(df)-set(df._get_numeric_data().columns))\n",
    "        df = pd.concat([df,pd.get_dummies(df[categorical_features])],axis=1,sort=False)\n",
    "        df.drop(categorical_features,inplace=True,axis=1)\n",
    "        \n",
    "        # reset index\n",
    "        df.reset_index(inplace=True,drop=True)\n",
    "        \n",
    "    \n",
    "    #% Processing for COMPAS\n",
    "    if name == 'compas':\n",
    "        file = '../data/COMPAS/compas-scores-two-years.csv'\n",
    "        df = pd.read_csv(file,index_col=0)\n",
    "        \n",
    "        # select features for analysis\n",
    "        df = df[['age', 'c_charge_degree', 'race',  'sex', 'priors_count', \n",
    "                    'days_b_screening_arrest',  'is_recid',  'c_jail_in', 'c_jail_out']]\n",
    "        \n",
    "        # drop missing/bad features (following ProPublica's analysis)\n",
    "        # ix is the index of variables we want to keep.\n",
    "\n",
    "        # Remove entries with inconsistent arrest information.\n",
    "        ix = df['days_b_screening_arrest'] <= 30\n",
    "        ix = (df['days_b_screening_arrest'] >= -30) & ix\n",
    "\n",
    "        # remove entries entries where compas case could not be found.\n",
    "        ix = (df['is_recid'] != -1) & ix\n",
    "\n",
    "        # remove traffic offenses.\n",
    "        ix = (df['c_charge_degree'] != \"O\") & ix\n",
    "\n",
    "\n",
    "        # trim dataset\n",
    "        df = df.loc[ix,:]\n",
    "\n",
    "        # create new attribute \"length of stay\" with total jail time.\n",
    "        df['length_of_stay'] = (pd.to_datetime(df['c_jail_out'])-pd.to_datetime(df['c_jail_in'])).apply(lambda x: x.days)\n",
    "        \n",
    "        \n",
    "        # drop 'c_jail_in' and 'c_jail_out'\n",
    "        # drop columns that won't be used\n",
    "        dropCol = ['c_jail_in', 'c_jail_out','days_b_screening_arrest']\n",
    "        df.drop(dropCol,inplace=True,axis=1)\n",
    "        \n",
    "        # keep only African-American and Caucasian\n",
    "        df = df.loc[df['race'].isin(['African-American','Caucasian']),:]\n",
    "        \n",
    "        # binarize race \n",
    "        # African-American: 0, Caucasian: 1\n",
    "        df.loc[:,'race'] = df['race'].apply(lambda x: 1 if x=='Caucasian' else 0)\n",
    "        \n",
    "        # binarize gender\n",
    "        # Female: 1, Male: 0\n",
    "        df.loc[:,'sex'] = df['sex'].apply(lambda x: 1 if x=='Male' else 0)\n",
    "        \n",
    "        # rename columns 'sex' to 'gender'\n",
    "        df.rename(index=str, columns={\"sex\": \"gender\"},inplace=True)\n",
    "        \n",
    "        # binarize degree charged\n",
    "        # Misd. = -1, Felony = 1\n",
    "        df.loc[:,'c_charge_degree'] = df['c_charge_degree'].apply(lambda x: 1 if x=='F' else -1)\n",
    "               \n",
    "        # reset index\n",
    "        df.reset_index(inplace=True,drop=True)\n",
    "        \n",
    "        \n",
    "    # TODO: add other datasets here\n",
    "        \n",
    "    return df"
   ]
  },
  {
   "cell_type": "code",
   "execution_count": 11,
   "metadata": {},
   "outputs": [
    {
     "ename": "TypeError",
     "evalue": "concat() got an unexpected keyword argument 'sort'",
     "output_type": "error",
     "traceback": [
      "\u001b[0;31m---------------------------------------------------------------------------\u001b[0m",
      "\u001b[0;31mTypeError\u001b[0m                                 Traceback (most recent call last)",
      "\u001b[0;32m<ipython-input-11-3e16d05b0a82>\u001b[0m in \u001b[0;36m<module>\u001b[0;34m()\u001b[0m\n\u001b[1;32m      2\u001b[0m \u001b[0mlabel_name\u001b[0m \u001b[0;34m=\u001b[0m \u001b[0;34m'income'\u001b[0m\u001b[0;34m\u001b[0m\u001b[0m\n\u001b[1;32m      3\u001b[0m \u001b[0muse_protected\u001b[0m \u001b[0;34m=\u001b[0m \u001b[0;32mTrue\u001b[0m\u001b[0;34m\u001b[0m\u001b[0m\n\u001b[0;32m----> 4\u001b[0;31m \u001b[0mdf\u001b[0m \u001b[0;34m=\u001b[0m \u001b[0mload_data\u001b[0m\u001b[0;34m(\u001b[0m\u001b[0mname\u001b[0m\u001b[0;34m=\u001b[0m\u001b[0;34m'adult'\u001b[0m\u001b[0;34m)\u001b[0m\u001b[0;34m\u001b[0m\u001b[0m\n\u001b[0m",
      "\u001b[0;32m<ipython-input-10-2ba5af422233>\u001b[0m in \u001b[0;36mload_data\u001b[0;34m(name)\u001b[0m\n\u001b[1;32m     62\u001b[0m         \u001b[0;31m# create one-hot encoding\u001b[0m\u001b[0;34m\u001b[0m\u001b[0;34m\u001b[0m\u001b[0m\n\u001b[1;32m     63\u001b[0m         \u001b[0mcategorical_features\u001b[0m \u001b[0;34m=\u001b[0m \u001b[0mlist\u001b[0m\u001b[0;34m(\u001b[0m\u001b[0mset\u001b[0m\u001b[0;34m(\u001b[0m\u001b[0mdf\u001b[0m\u001b[0;34m)\u001b[0m\u001b[0;34m-\u001b[0m\u001b[0mset\u001b[0m\u001b[0;34m(\u001b[0m\u001b[0mdf\u001b[0m\u001b[0;34m.\u001b[0m\u001b[0m_get_numeric_data\u001b[0m\u001b[0;34m(\u001b[0m\u001b[0;34m)\u001b[0m\u001b[0;34m.\u001b[0m\u001b[0mcolumns\u001b[0m\u001b[0;34m)\u001b[0m\u001b[0;34m)\u001b[0m\u001b[0;34m\u001b[0m\u001b[0m\n\u001b[0;32m---> 64\u001b[0;31m         \u001b[0mdf\u001b[0m \u001b[0;34m=\u001b[0m \u001b[0mpd\u001b[0m\u001b[0;34m.\u001b[0m\u001b[0mconcat\u001b[0m\u001b[0;34m(\u001b[0m\u001b[0;34m[\u001b[0m\u001b[0mdf\u001b[0m\u001b[0;34m,\u001b[0m\u001b[0mpd\u001b[0m\u001b[0;34m.\u001b[0m\u001b[0mget_dummies\u001b[0m\u001b[0;34m(\u001b[0m\u001b[0mdf\u001b[0m\u001b[0;34m[\u001b[0m\u001b[0mcategorical_features\u001b[0m\u001b[0;34m]\u001b[0m\u001b[0;34m)\u001b[0m\u001b[0;34m]\u001b[0m\u001b[0;34m,\u001b[0m\u001b[0maxis\u001b[0m\u001b[0;34m=\u001b[0m\u001b[0;36m1\u001b[0m\u001b[0;34m,\u001b[0m\u001b[0msort\u001b[0m\u001b[0;34m=\u001b[0m\u001b[0;32mFalse\u001b[0m\u001b[0;34m)\u001b[0m\u001b[0;34m\u001b[0m\u001b[0m\n\u001b[0m\u001b[1;32m     65\u001b[0m         \u001b[0mdf\u001b[0m\u001b[0;34m.\u001b[0m\u001b[0mdrop\u001b[0m\u001b[0;34m(\u001b[0m\u001b[0mcategorical_features\u001b[0m\u001b[0;34m,\u001b[0m\u001b[0minplace\u001b[0m\u001b[0;34m=\u001b[0m\u001b[0;32mTrue\u001b[0m\u001b[0;34m,\u001b[0m\u001b[0maxis\u001b[0m\u001b[0;34m=\u001b[0m\u001b[0;36m1\u001b[0m\u001b[0;34m)\u001b[0m\u001b[0;34m\u001b[0m\u001b[0m\n\u001b[1;32m     66\u001b[0m \u001b[0;34m\u001b[0m\u001b[0m\n",
      "\u001b[0;31mTypeError\u001b[0m: concat() got an unexpected keyword argument 'sort'"
     ]
    }
   ],
   "source": [
    "protected_attrs = ['race']\n",
    "label_name = 'income'\n",
    "use_protected = True\n",
    "df = load_data(name='adult')"
   ]
  },
  {
   "cell_type": "code",
   "execution_count": 18,
   "metadata": {},
   "outputs": [],
   "source": [
    "dataset_orig_train, dataset_orig_test = train_test_split(df, test_size=0.3, random_state=0)\n",
    "\n",
    "dataset_orig_train = StandardDataset(dataset_orig_train, label_name=label_name, favorable_classes=[1],\n",
    "                                     protected_attribute_names=protected_attrs, privileged_classes=[[1]])\n",
    "dataset_orig_test = StandardDataset(dataset_orig_test, label_name=label_name, favorable_classes=[1],\n",
    "                                    protected_attribute_names=protected_attrs, privileged_classes=[[1]])\n",
    "\n",
    "\n",
    "idx_features_w_pro = get_idx_w_protected(dataset_orig_train.feature_names)\n",
    "idx_features_wo_pro = get_idx_wo_protected(dataset_orig_train.feature_names, protected_attrs)\n",
    "idx_protected = get_idx_protected(dataset_orig_train.feature_names, protected_attrs)\n",
    "\n",
    "X_train = dataset_orig_train.features[:, idx_features_w_pro]\n",
    "X_train_removed = dataset_orig_train.features[:, idx_features_wo_pro]\n",
    "y_train = dataset_orig_train.labels.ravel()\n",
    "X_test = dataset_orig_test.features[:, idx_features_w_pro]\n",
    "X_test_removed = dataset_orig_test.features[:, idx_features_wo_pro]\n",
    "y_test = dataset_orig_test.labels.ravel()\n",
    "\n",
    "s_train = dataset_orig_train.features[:, idx_protected].ravel()\n",
    "s_test = dataset_orig_test.features[:, idx_protected].ravel()"
   ]
  },
  {
   "cell_type": "code",
   "execution_count": 22,
   "metadata": {},
   "outputs": [
    {
     "data": {
      "text/plain": [
       "(32512, 20)"
      ]
     },
     "execution_count": 22,
     "metadata": {},
     "output_type": "execute_result"
    }
   ],
   "source": [
    "X_train.shape"
   ]
  },
  {
   "cell_type": "code",
   "execution_count": 23,
   "metadata": {},
   "outputs": [
    {
     "data": {
      "text/plain": [
       "(32512, 19)"
      ]
     },
     "execution_count": 23,
     "metadata": {},
     "output_type": "execute_result"
    }
   ],
   "source": [
    "X_train_removed.shape"
   ]
  },
  {
   "cell_type": "code",
   "execution_count": 20,
   "metadata": {},
   "outputs": [
    {
     "name": "stderr",
     "output_type": "stream",
     "text": [
      "lbfgs failed to converge (status=1):\n",
      "STOP: TOTAL NO. of ITERATIONS REACHED LIMIT.\n",
      "\n",
      "Increase the number of iterations (max_iter) or scale the data as shown in:\n",
      "    https://scikit-learn.org/stable/modules/preprocessing.html\n",
      "Please also refer to the documentation for alternative solver options:\n",
      "    https://scikit-learn.org/stable/modules/linear_model.html#logistic-regression\n"
     ]
    },
    {
     "data": {
      "text/plain": [
       "LogisticRegression(random_state=42)"
      ]
     },
     "execution_count": 20,
     "metadata": {},
     "output_type": "execute_result"
    }
   ],
   "source": [
    "model = LogisticRegression(random_state=42)\n",
    "model.fit(X_train, y_train, sample_weight=dataset_orig_train.instance_weights)"
   ]
  },
  {
   "cell_type": "code",
   "execution_count": null,
   "metadata": {},
   "outputs": [],
   "source": [
    "fm.equalized_odds_diff()"
   ]
  },
  {
   "cell_type": "code",
   "execution_count": 9,
   "metadata": {},
   "outputs": [
    {
     "data": {
      "text/plain": [
       "(9769, 12)"
      ]
     },
     "execution_count": 9,
     "metadata": {},
     "output_type": "execute_result"
    }
   ],
   "source": [
    "X_test.shape"
   ]
  },
  {
   "cell_type": "code",
   "execution_count": 6,
   "metadata": {},
   "outputs": [
    {
     "name": "stdout",
     "output_type": "stream",
     "text": [
      "['EqOdd', 'Calibration']\tFalse\tNone\n",
      "['EqOdd', 'PosClassBal']\tTrue\t0.23686779050539447\n",
      "['EqOdd', 'NegClassBal']\tTrue\t0.23687069783024028\n",
      "['EqOdd', 'ClassBal']\tTrue\t0.23686779050538861\n",
      "['EqOdd', 'PredEqual']\tTrue\t0.2368706978302405\n",
      "['EqOdd', 'EqOpp']\tTrue\t0.23687069783024559\n",
      "['EqOdd', 'DemoParity']\tTrue\t0.23686669988716902\n",
      "['Calibration', 'PosClassBal']\tFalse\tNone\n",
      "['Calibration', 'NegClassBal']\tTrue\t0.1492982386906257\n",
      "['Calibration', 'ClassBal']\tFalse\tNone\n",
      "['Calibration', 'PredEqual']\tTrue\t0.1478210765505473\n",
      "['Calibration', 'EqOpp']\tFalse\tNone\n",
      "['Calibration', 'DemoParity']\tTrue\t0.15080450909088844\n",
      "['PosClassBal', 'NegClassBal']\tTrue\t5.551115123125783e-16\n",
      "['PosClassBal', 'ClassBal']\tTrue\t5.551115123125783e-16\n",
      "['PosClassBal', 'PredEqual']\tTrue\t5.551115123125783e-16\n",
      "['PosClassBal', 'EqOpp']\tTrue\t0.23686779050538645\n",
      "['PosClassBal', 'DemoParity']\tTrue\t0.06537660169483889\n",
      "['NegClassBal', 'ClassBal']\tTrue\t5.551115123125783e-16\n",
      "['NegClassBal', 'PredEqual']\tTrue\t5.551115123125783e-16\n",
      "['NegClassBal', 'EqOpp']\tTrue\t0.2368706978302413\n",
      "['NegClassBal', 'DemoParity']\tTrue\t0.1318659296876497\n",
      "['ClassBal', 'PredEqual']\tTrue\t5.551115123125783e-16\n",
      "['ClassBal', 'EqOpp']\tTrue\t0.2368677905053818\n",
      "['ClassBal', 'DemoParity']\tTrue\t0.2368680003537816\n",
      "['PredEqual', 'EqOpp']\tTrue\t0.2368706978302426\n",
      "['PredEqual', 'DemoParity']\tTrue\t0.131865471917493\n",
      "['EqOpp', 'DemoParity']\tTrue\t0.2368668704128258\n",
      "['EqOdd', 'Calibration', 'PosClassBal']\tFalse\tNone\n",
      "['EqOdd', 'Calibration', 'NegClassBal']\tFalse\tNone\n",
      "['EqOdd', 'Calibration', 'ClassBal']\tTrue\t0.14693030015706668\n",
      "['EqOdd', 'Calibration', 'PredEqual']\tFalse\tNone\n",
      "['EqOdd', 'Calibration', 'EqOpp']\tFalse\tNone\n",
      "['EqOdd', 'Calibration', 'DemoParity']\tTrue\t0.1516234107412372\n",
      "['EqOdd', 'PosClassBal', 'NegClassBal']\tTrue\t0.23686779050538861\n",
      "['EqOdd', 'PosClassBal', 'ClassBal']\tTrue\t0.2368676148356046\n",
      "['EqOdd', 'PosClassBal', 'PredEqual']\tTrue\t0.23686779050537218\n",
      "['EqOdd', 'PosClassBal', 'EqOpp']\tTrue\t0.23686885614087505\n",
      "['EqOdd', 'PosClassBal', 'DemoParity']\tTrue\t0.2368682610345749\n",
      "['EqOdd', 'NegClassBal', 'ClassBal']\tTrue\t0.23686779050537546\n",
      "['EqOdd', 'NegClassBal', 'PredEqual']\tTrue\t0.23687069783024206\n",
      "['EqOdd', 'NegClassBal', 'EqOpp']\tTrue\t0.23687069783024114\n",
      "['EqOdd', 'NegClassBal', 'DemoParity']\tTrue\t0.23686709510117648\n",
      "['EqOdd', 'ClassBal', 'PredEqual']\tTrue\t0.23686779050538176\n",
      "['EqOdd', 'ClassBal', 'EqOpp']\tTrue\t0.23686885614094247\n",
      "['EqOdd', 'ClassBal', 'DemoParity']\tTrue\t0.23686794509839035\n",
      "['EqOdd', 'PredEqual', 'EqOpp']\tTrue\t0.23687069783024253\n",
      "['EqOdd', 'PredEqual', 'DemoParity']\tTrue\t0.23686799205077452\n",
      "['EqOdd', 'EqOpp', 'DemoParity']\tTrue\t0.23686783858606028\n",
      "['Calibration', 'PosClassBal', 'NegClassBal']\tFalse\tNone\n",
      "['Calibration', 'PosClassBal', 'ClassBal']\tFalse\tNone\n",
      "['Calibration', 'PosClassBal', 'PredEqual']\tTrue\t0.1445036994220833\n",
      "['Calibration', 'PosClassBal', 'EqOpp']\tFalse\tNone\n",
      "['Calibration', 'PosClassBal', 'DemoParity']\tTrue\t0.15062578349872868\n",
      "['Calibration', 'NegClassBal', 'ClassBal']\tTrue\t0.1464213417944852\n",
      "['Calibration', 'NegClassBal', 'PredEqual']\tFalse\tNone\n",
      "['Calibration', 'NegClassBal', 'EqOpp']\tTrue\t0.14940024777253044\n",
      "['Calibration', 'NegClassBal', 'DemoParity']\tFalse\tNone\n",
      "['Calibration', 'ClassBal', 'PredEqual']\tFalse\tNone\n",
      "['Calibration', 'ClassBal', 'EqOpp']\tTrue\t0.1462103653398692\n",
      "['Calibration', 'ClassBal', 'DemoParity']\tTrue\t0.14968056889678222\n",
      "['Calibration', 'PredEqual', 'EqOpp']\tTrue\t0.1479275889770918\n",
      "['Calibration', 'PredEqual', 'DemoParity']\tTrue\t0.15008226102222083\n",
      "['Calibration', 'EqOpp', 'DemoParity']\tFalse\tNone\n",
      "['PosClassBal', 'NegClassBal', 'ClassBal']\tTrue\t5.551115123125783e-16\n",
      "['PosClassBal', 'NegClassBal', 'PredEqual']\tTrue\t5.551115123125783e-16\n",
      "['PosClassBal', 'NegClassBal', 'EqOpp']\tTrue\t0.2368677905053818\n",
      "['PosClassBal', 'NegClassBal', 'DemoParity']\tTrue\t0.2368680003537816\n",
      "['PosClassBal', 'ClassBal', 'PredEqual']\tTrue\t5.551115123125783e-16\n",
      "['PosClassBal', 'ClassBal', 'EqOpp']\tTrue\t0.23686761483560026\n",
      "['PosClassBal', 'ClassBal', 'DemoParity']\tTrue\t0.23686857068034384\n",
      "['PosClassBal', 'PredEqual', 'EqOpp']\tTrue\t0.23686779050539167\n",
      "['PosClassBal', 'PredEqual', 'DemoParity']\tTrue\t0.23686742266698485\n",
      "['PosClassBal', 'EqOpp', 'DemoParity']\tTrue\t0.2368679041343828\n",
      "['NegClassBal', 'ClassBal', 'PredEqual']\tTrue\t5.551115123125783e-16\n",
      "['NegClassBal', 'ClassBal', 'EqOpp']\tTrue\t0.2368677905053885\n",
      "['NegClassBal', 'ClassBal', 'DemoParity']\tTrue\t0.23686847493252672\n",
      "['NegClassBal', 'PredEqual', 'EqOpp']\tTrue\t0.23687069783024126\n",
      "['NegClassBal', 'PredEqual', 'DemoParity']\tTrue\t0.13186471964488916\n",
      "['NegClassBal', 'EqOpp', 'DemoParity']\tTrue\t0.23686722452103579\n",
      "['ClassBal', 'PredEqual', 'EqOpp']\tTrue\t0.23686779050538861\n",
      "['ClassBal', 'PredEqual', 'DemoParity']\tTrue\t0.23686786050127018\n",
      "['ClassBal', 'EqOpp', 'DemoParity']\tTrue\t0.23686837242606754\n",
      "['PredEqual', 'EqOpp', 'DemoParity']\tTrue\t0.23686669988716902\n",
      "['EqOdd', 'Calibration', 'PosClassBal', 'NegClassBal']\tTrue\t0.14693030015706668\n",
      "['EqOdd', 'Calibration', 'PosClassBal', 'ClassBal']\tTrue\t0.14495426279127882\n",
      "['EqOdd', 'Calibration', 'PosClassBal', 'PredEqual']\tTrue\t0.146428117675931\n",
      "['EqOdd', 'Calibration', 'PosClassBal', 'EqOpp']\tFalse\tNone\n",
      "['EqOdd', 'Calibration', 'PosClassBal', 'DemoParity']\tFalse\tNone\n",
      "['EqOdd', 'Calibration', 'NegClassBal', 'ClassBal']\tFalse\tNone\n",
      "['EqOdd', 'Calibration', 'NegClassBal', 'PredEqual']\tFalse\tNone\n",
      "['EqOdd', 'Calibration', 'NegClassBal', 'EqOpp']\tFalse\tNone\n",
      "['EqOdd', 'Calibration', 'NegClassBal', 'DemoParity']\tTrue\t0.1509148639297398\n",
      "['EqOdd', 'Calibration', 'ClassBal', 'PredEqual']\tFalse\tNone\n",
      "['EqOdd', 'Calibration', 'ClassBal', 'EqOpp']\tFalse\tNone\n",
      "['EqOdd', 'Calibration', 'ClassBal', 'DemoParity']\tFalse\tNone\n",
      "['EqOdd', 'Calibration', 'PredEqual', 'EqOpp']\tTrue\t0.14985861627988062\n",
      "['EqOdd', 'Calibration', 'PredEqual', 'DemoParity']\tFalse\tNone\n",
      "['EqOdd', 'Calibration', 'EqOpp', 'DemoParity']\tTrue\t0.15304707344168222\n",
      "['EqOdd', 'PosClassBal', 'NegClassBal', 'ClassBal']\tTrue\t0.23686761483561114\n",
      "['EqOdd', 'PosClassBal', 'NegClassBal', 'PredEqual']\tTrue\t0.23686779050538176\n",
      "['EqOdd', 'PosClassBal', 'NegClassBal', 'EqOpp']\tTrue\t0.23686885614094247\n",
      "['EqOdd', 'PosClassBal', 'NegClassBal', 'DemoParity']\tTrue\t0.23686794509839035\n",
      "['EqOdd', 'PosClassBal', 'ClassBal', 'PredEqual']\tTrue\t0.2368676148356033\n",
      "['EqOdd', 'PosClassBal', 'ClassBal', 'EqOpp']\tTrue\t0.2368677905053971\n",
      "['EqOdd', 'PosClassBal', 'ClassBal', 'DemoParity']\tTrue\t0.23686841515521587\n",
      "['EqOdd', 'PosClassBal', 'PredEqual', 'EqOpp']\tTrue\t0.23686885614093806\n",
      "['EqOdd', 'PosClassBal', 'PredEqual', 'DemoParity']\tTrue\t0.23686860206354846\n",
      "['EqOdd', 'PosClassBal', 'EqOpp', 'DemoParity']\tTrue\t0.23686788133621994\n",
      "['EqOdd', 'NegClassBal', 'ClassBal', 'PredEqual']\tTrue\t0.23686779050539117\n",
      "['EqOdd', 'NegClassBal', 'ClassBal', 'EqOpp']\tTrue\t0.23686885614094627\n",
      "['EqOdd', 'NegClassBal', 'ClassBal', 'DemoParity']\tTrue\t0.2368672760824717\n",
      "['EqOdd', 'NegClassBal', 'PredEqual', 'EqOpp']\tTrue\t0.23687069783024295\n",
      "['EqOdd', 'NegClassBal', 'PredEqual', 'DemoParity']\tTrue\t0.23686641790519808\n",
      "['EqOdd', 'NegClassBal', 'EqOpp', 'DemoParity']\tTrue\t0.2368686278884446\n",
      "['EqOdd', 'ClassBal', 'PredEqual', 'EqOpp']\tTrue\t0.23686885614093062\n",
      "['EqOdd', 'ClassBal', 'PredEqual', 'DemoParity']\tTrue\t0.23686780488958686\n",
      "['EqOdd', 'ClassBal', 'EqOpp', 'DemoParity']\tTrue\t0.23686487128407005\n",
      "['EqOdd', 'PredEqual', 'EqOpp', 'DemoParity']\tTrue\t0.2368649232633948\n",
      "['Calibration', 'PosClassBal', 'NegClassBal', 'ClassBal']\tFalse\tNone\n",
      "['Calibration', 'PosClassBal', 'NegClassBal', 'PredEqual']\tFalse\tNone\n",
      "['Calibration', 'PosClassBal', 'NegClassBal', 'EqOpp']\tTrue\t0.1462103653398692\n",
      "['Calibration', 'PosClassBal', 'NegClassBal', 'DemoParity']\tTrue\t0.14968056889678222\n",
      "['Calibration', 'PosClassBal', 'ClassBal', 'PredEqual']\tFalse\tNone\n",
      "['Calibration', 'PosClassBal', 'ClassBal', 'EqOpp']\tFalse\tNone\n",
      "['Calibration', 'PosClassBal', 'ClassBal', 'DemoParity']\tTrue\t0.1496538829786147\n",
      "['Calibration', 'PosClassBal', 'PredEqual', 'EqOpp']\tTrue\t0.14530133640558335\n",
      "['Calibration', 'PosClassBal', 'PredEqual', 'DemoParity']\tFalse\tNone\n",
      "['Calibration', 'PosClassBal', 'EqOpp', 'DemoParity']\tTrue\t0.1519044166564951\n",
      "['Calibration', 'NegClassBal', 'ClassBal', 'PredEqual']\tFalse\tNone\n",
      "['Calibration', 'NegClassBal', 'ClassBal', 'EqOpp']\tFalse\tNone\n",
      "['Calibration', 'NegClassBal', 'ClassBal', 'DemoParity']\tFalse\tNone\n",
      "['Calibration', 'NegClassBal', 'PredEqual', 'EqOpp']\tFalse\tNone\n",
      "['Calibration', 'NegClassBal', 'PredEqual', 'DemoParity']\tTrue\t0.14938120042848782\n",
      "['Calibration', 'NegClassBal', 'EqOpp', 'DemoParity']\tTrue\t0.15126108898958363\n",
      "['Calibration', 'ClassBal', 'PredEqual', 'EqOpp']\tFalse\tNone\n",
      "['Calibration', 'ClassBal', 'PredEqual', 'DemoParity']\tTrue\t0.14937953560423614\n",
      "['Calibration', 'ClassBal', 'EqOpp', 'DemoParity']\tTrue\t0.15095048265751382\n",
      "['Calibration', 'PredEqual', 'EqOpp', 'DemoParity']\tTrue\t0.15162342440614562\n",
      "['PosClassBal', 'NegClassBal', 'ClassBal', 'PredEqual']\tTrue\t5.551115123125783e-16\n",
      "['PosClassBal', 'NegClassBal', 'ClassBal', 'EqOpp']\tTrue\t0.23686761483561172\n",
      "['PosClassBal', 'NegClassBal', 'ClassBal', 'DemoParity']\tTrue\t0.23686850526485748\n",
      "['PosClassBal', 'NegClassBal', 'PredEqual', 'EqOpp']\tTrue\t0.23686779050538861\n",
      "['PosClassBal', 'NegClassBal', 'PredEqual', 'DemoParity']\tTrue\t0.23686786050127018\n",
      "['PosClassBal', 'NegClassBal', 'EqOpp', 'DemoParity']\tTrue\t0.23686837242606754\n",
      "['PosClassBal', 'ClassBal', 'PredEqual', 'EqOpp']\tTrue\t0.2368676148356076\n",
      "['PosClassBal', 'ClassBal', 'PredEqual', 'DemoParity']\tTrue\t0.2368676111751421\n",
      "['PosClassBal', 'ClassBal', 'EqOpp', 'DemoParity']\tTrue\t0.23686825099903913\n",
      "['PosClassBal', 'PredEqual', 'EqOpp', 'DemoParity']\tTrue\t0.2368682610346995\n",
      "['NegClassBal', 'ClassBal', 'PredEqual', 'EqOpp']\tTrue\t0.23686779050538356\n",
      "['NegClassBal', 'ClassBal', 'PredEqual', 'DemoParity']\tTrue\t0.2368661671367809\n",
      "['NegClassBal', 'ClassBal', 'EqOpp', 'DemoParity']\tTrue\t0.23685123907778746\n",
      "['NegClassBal', 'PredEqual', 'EqOpp', 'DemoParity']\tTrue\t0.2368670951008822\n",
      "['ClassBal', 'PredEqual', 'EqOpp', 'DemoParity']\tTrue\t0.23686794509871914\n",
      "['EqOdd', 'Calibration', 'PosClassBal', 'NegClassBal', 'ClassBal']\tFalse\tNone\n",
      "['EqOdd', 'Calibration', 'PosClassBal', 'NegClassBal', 'PredEqual']\tFalse\tNone\n",
      "['EqOdd', 'Calibration', 'PosClassBal', 'NegClassBal', 'EqOpp']\tFalse\tNone\n",
      "['EqOdd', 'Calibration', 'PosClassBal', 'NegClassBal', 'DemoParity']\tFalse\tNone\n",
      "['EqOdd', 'Calibration', 'PosClassBal', 'ClassBal', 'PredEqual']\tFalse\tNone\n",
      "['EqOdd', 'Calibration', 'PosClassBal', 'ClassBal', 'EqOpp']\tTrue\t0.14570939261168686\n",
      "['EqOdd', 'Calibration', 'PosClassBal', 'ClassBal', 'DemoParity']\tTrue\t0.15047831912554321\n",
      "['EqOdd', 'Calibration', 'PosClassBal', 'PredEqual', 'EqOpp']\tTrue\t0.14720021685031978\n",
      "['EqOdd', 'Calibration', 'PosClassBal', 'PredEqual', 'DemoParity']\tTrue\t0.1508641528459722\n",
      "['EqOdd', 'Calibration', 'PosClassBal', 'EqOpp', 'DemoParity']\tTrue\t0.15246194335745927\n",
      "['EqOdd', 'Calibration', 'NegClassBal', 'ClassBal', 'PredEqual']\tTrue\t0.1478588203714879\n",
      "['EqOdd', 'Calibration', 'NegClassBal', 'ClassBal', 'EqOpp']\tFalse\tNone\n",
      "['EqOdd', 'Calibration', 'NegClassBal', 'ClassBal', 'DemoParity']\tTrue\t0.1502982794966496\n",
      "['EqOdd', 'Calibration', 'NegClassBal', 'PredEqual', 'EqOpp']\tTrue\t0.15143981204044915\n",
      "['EqOdd', 'Calibration', 'NegClassBal', 'PredEqual', 'DemoParity']\tFalse\tNone\n",
      "['EqOdd', 'Calibration', 'NegClassBal', 'EqOpp', 'DemoParity']\tFalse\tNone\n",
      "['EqOdd', 'Calibration', 'ClassBal', 'PredEqual', 'EqOpp']\tFalse\tNone\n",
      "['EqOdd', 'Calibration', 'ClassBal', 'PredEqual', 'DemoParity']\tTrue\t0.15042687719957867\n",
      "['EqOdd', 'Calibration', 'ClassBal', 'EqOpp', 'DemoParity']\tTrue\t0.15183564028893629\n",
      "['EqOdd', 'Calibration', 'PredEqual', 'EqOpp', 'DemoParity']\tTrue\t0.1525824311998627\n",
      "['EqOdd', 'PosClassBal', 'NegClassBal', 'ClassBal', 'PredEqual']\tTrue\t0.23686761483561197\n",
      "['EqOdd', 'PosClassBal', 'NegClassBal', 'ClassBal', 'EqOpp']\tTrue\t0.23686779050539647\n",
      "['EqOdd', 'PosClassBal', 'NegClassBal', 'ClassBal', 'DemoParity']\tTrue\t0.23686764039835315\n",
      "['EqOdd', 'PosClassBal', 'NegClassBal', 'PredEqual', 'EqOpp']\tTrue\t0.23686885614093062\n",
      "['EqOdd', 'PosClassBal', 'NegClassBal', 'PredEqual', 'DemoParity']\tTrue\t0.23686780488958686\n",
      "['EqOdd', 'PosClassBal', 'NegClassBal', 'EqOpp', 'DemoParity']\tTrue\t0.23686487128407005\n",
      "['EqOdd', 'PosClassBal', 'ClassBal', 'PredEqual', 'EqOpp']\tTrue\t0.236867790505398\n",
      "['EqOdd', 'PosClassBal', 'ClassBal', 'PredEqual', 'DemoParity']\tTrue\t0.2368489739429831\n",
      "['EqOdd', 'PosClassBal', 'ClassBal', 'EqOpp', 'DemoParity']\tTrue\t0.23686870480460315\n",
      "['EqOdd', 'PosClassBal', 'PredEqual', 'EqOpp', 'DemoParity']\tTrue\t0.23685195675577808\n",
      "['EqOdd', 'NegClassBal', 'ClassBal', 'PredEqual', 'EqOpp']\tTrue\t0.23686885614091485\n",
      "['EqOdd', 'NegClassBal', 'ClassBal', 'PredEqual', 'DemoParity']\tTrue\t0.23686755778112706\n",
      "['EqOdd', 'NegClassBal', 'ClassBal', 'EqOpp', 'DemoParity']\tTrue\t0.23685845121522517\n",
      "['EqOdd', 'NegClassBal', 'PredEqual', 'EqOpp', 'DemoParity']\tTrue\t0.2368688780204719\n",
      "['EqOdd', 'ClassBal', 'PredEqual', 'EqOpp', 'DemoParity']\tTrue\t0.23686625266408295\n",
      "['Calibration', 'PosClassBal', 'NegClassBal', 'ClassBal', 'PredEqual']\tTrue\t0.14482655279298579\n",
      "['Calibration', 'PosClassBal', 'NegClassBal', 'ClassBal', 'EqOpp']\tFalse\tNone\n",
      "['Calibration', 'PosClassBal', 'NegClassBal', 'ClassBal', 'DemoParity']\tFalse\tNone\n",
      "['Calibration', 'PosClassBal', 'NegClassBal', 'PredEqual', 'EqOpp']\tFalse\tNone\n",
      "['Calibration', 'PosClassBal', 'NegClassBal', 'PredEqual', 'DemoParity']\tTrue\t0.14937953560423614\n",
      "['Calibration', 'PosClassBal', 'NegClassBal', 'EqOpp', 'DemoParity']\tTrue\t0.15095048265751382\n",
      "['Calibration', 'PosClassBal', 'ClassBal', 'PredEqual', 'EqOpp']\tTrue\t0.14495426497391256\n",
      "['Calibration', 'PosClassBal', 'ClassBal', 'PredEqual', 'DemoParity']\tTrue\t0.14937848775464158\n",
      "['Calibration', 'PosClassBal', 'ClassBal', 'EqOpp', 'DemoParity']\tTrue\t0.1507560621584003\n",
      "['Calibration', 'PosClassBal', 'PredEqual', 'EqOpp', 'DemoParity']\tFalse\tNone\n",
      "['Calibration', 'NegClassBal', 'ClassBal', 'PredEqual', 'EqOpp']\tFalse\tNone\n",
      "['Calibration', 'NegClassBal', 'ClassBal', 'PredEqual', 'DemoParity']\tFalse\tNone\n",
      "['Calibration', 'NegClassBal', 'ClassBal', 'EqOpp', 'DemoParity']\tTrue\t0.15047587715954164\n",
      "['Calibration', 'NegClassBal', 'PredEqual', 'EqOpp', 'DemoParity']\tTrue\t0.15091486108513297\n",
      "['Calibration', 'ClassBal', 'PredEqual', 'EqOpp', 'DemoParity']\tFalse\tNone\n",
      "['PosClassBal', 'NegClassBal', 'ClassBal', 'PredEqual', 'EqOpp']\tTrue\t0.23686761483560773\n",
      "['PosClassBal', 'NegClassBal', 'ClassBal', 'PredEqual', 'DemoParity']\tTrue\t0.2368676702156995\n",
      "['PosClassBal', 'NegClassBal', 'ClassBal', 'EqOpp', 'DemoParity']\tTrue\t0.23686898471108578\n",
      "['PosClassBal', 'NegClassBal', 'PredEqual', 'EqOpp', 'DemoParity']\tTrue\t0.23686794509871914\n",
      "['PosClassBal', 'ClassBal', 'PredEqual', 'EqOpp', 'DemoParity']\tTrue\t0.2368684151551644\n",
      "['NegClassBal', 'ClassBal', 'PredEqual', 'EqOpp', 'DemoParity']\tTrue\t0.23686727608358293\n",
      "['EqOdd', 'Calibration', 'PosClassBal', 'NegClassBal', 'ClassBal', 'PredEqual']\tFalse\tNone\n",
      "['EqOdd', 'Calibration', 'PosClassBal', 'NegClassBal', 'ClassBal', 'EqOpp']\tTrue\t0.1464147748028164\n",
      "['EqOdd', 'Calibration', 'PosClassBal', 'NegClassBal', 'ClassBal', 'DemoParity']\tTrue\t0.15015954752842614\n",
      "['EqOdd', 'Calibration', 'PosClassBal', 'NegClassBal', 'PredEqual', 'EqOpp']\tFalse\tNone\n",
      "['EqOdd', 'Calibration', 'PosClassBal', 'NegClassBal', 'PredEqual', 'DemoParity']\tTrue\t0.15042687719957867\n",
      "['EqOdd', 'Calibration', 'PosClassBal', 'NegClassBal', 'EqOpp', 'DemoParity']\tTrue\t0.15183564028893629\n",
      "['EqOdd', 'Calibration', 'PosClassBal', 'ClassBal', 'PredEqual', 'EqOpp']\tTrue\t0.14616886236680127\n",
      "['EqOdd', 'Calibration', 'PosClassBal', 'ClassBal', 'PredEqual', 'DemoParity']\tTrue\t0.15027731031197644\n",
      "['EqOdd', 'Calibration', 'PosClassBal', 'ClassBal', 'EqOpp', 'DemoParity']\tTrue\t0.1515203257003876\n",
      "['EqOdd', 'Calibration', 'PosClassBal', 'PredEqual', 'EqOpp', 'DemoParity']\tTrue\t0.15205498670884104\n",
      "['EqOdd', 'Calibration', 'NegClassBal', 'ClassBal', 'PredEqual', 'EqOpp']\tFalse\tNone\n",
      "['EqOdd', 'Calibration', 'NegClassBal', 'ClassBal', 'PredEqual', 'DemoParity']\tFalse\tNone\n",
      "['EqOdd', 'Calibration', 'NegClassBal', 'ClassBal', 'EqOpp', 'DemoParity']\tFalse\tNone\n",
      "['EqOdd', 'Calibration', 'NegClassBal', 'PredEqual', 'EqOpp', 'DemoParity']\tTrue\t0.15208050848583027\n",
      "['EqOdd', 'Calibration', 'ClassBal', 'PredEqual', 'EqOpp', 'DemoParity']\tTrue\t0.15161409806209375\n",
      "['EqOdd', 'PosClassBal', 'NegClassBal', 'ClassBal', 'PredEqual', 'EqOpp']\tTrue\t0.2368677905053889\n",
      "['EqOdd', 'PosClassBal', 'NegClassBal', 'ClassBal', 'PredEqual', 'DemoParity']\tTrue\t0.23686459725742262\n",
      "['EqOdd', 'PosClassBal', 'NegClassBal', 'ClassBal', 'EqOpp', 'DemoParity']\tTrue\t0.23686899369750614\n",
      "['EqOdd', 'PosClassBal', 'NegClassBal', 'PredEqual', 'EqOpp', 'DemoParity']\tTrue\t0.23686625266408295\n",
      "['EqOdd', 'PosClassBal', 'ClassBal', 'PredEqual', 'EqOpp', 'DemoParity']\tTrue\t0.23686878351833668\n",
      "['EqOdd', 'NegClassBal', 'ClassBal', 'PredEqual', 'EqOpp', 'DemoParity']\tTrue\t0.23687012887889225\n",
      "['Calibration', 'PosClassBal', 'NegClassBal', 'ClassBal', 'PredEqual', 'EqOpp']\tFalse\tNone\n",
      "['Calibration', 'PosClassBal', 'NegClassBal', 'ClassBal', 'PredEqual', 'DemoParity']\tTrue\t0.14906243875439942\n",
      "['Calibration', 'PosClassBal', 'NegClassBal', 'ClassBal', 'EqOpp', 'DemoParity']\tTrue\t0.15032213557838547\n",
      "['Calibration', 'PosClassBal', 'NegClassBal', 'PredEqual', 'EqOpp', 'DemoParity']\tFalse\tNone\n",
      "['Calibration', 'PosClassBal', 'ClassBal', 'PredEqual', 'EqOpp', 'DemoParity']\tTrue\t0.1504783108468521\n",
      "['Calibration', 'NegClassBal', 'ClassBal', 'PredEqual', 'EqOpp', 'DemoParity']\tFalse\tNone\n",
      "['PosClassBal', 'NegClassBal', 'ClassBal', 'PredEqual', 'EqOpp', 'DemoParity']\tTrue\t0.2368676403983423\n",
      "['EqOdd', 'Calibration', 'PosClassBal', 'NegClassBal', 'ClassBal', 'PredEqual', 'EqOpp']\tFalse\tNone\n",
      "['EqOdd', 'Calibration', 'PosClassBal', 'NegClassBal', 'ClassBal', 'PredEqual', 'DemoParity']\tFalse\tNone\n",
      "['EqOdd', 'Calibration', 'PosClassBal', 'NegClassBal', 'ClassBal', 'EqOpp', 'DemoParity']\tFalse\tNone\n",
      "['EqOdd', 'Calibration', 'PosClassBal', 'NegClassBal', 'PredEqual', 'EqOpp', 'DemoParity']\tTrue\t0.15161409806209375\n",
      "['EqOdd', 'Calibration', 'PosClassBal', 'ClassBal', 'PredEqual', 'EqOpp', 'DemoParity']\tTrue\t0.1513177353977637\n",
      "['EqOdd', 'Calibration', 'NegClassBal', 'ClassBal', 'PredEqual', 'EqOpp', 'DemoParity']\tFalse\tNone\n",
      "['EqOdd', 'PosClassBal', 'NegClassBal', 'ClassBal', 'PredEqual', 'EqOpp', 'DemoParity']\tTrue\t0.23686831671289404\n",
      "['Calibration', 'PosClassBal', 'NegClassBal', 'ClassBal', 'PredEqual', 'EqOpp', 'DemoParity']\tFalse\tNone\n",
      "['EqOdd', 'Calibration', 'PosClassBal', 'NegClassBal', 'ClassBal', 'PredEqual', 'EqOpp', 'DemoParity']\tFalse\tNone\n"
     ]
    }
   ],
   "source": [
    "result = test_all_enumerations(fm, mats)"
   ]
  },
  {
   "cell_type": "code",
   "execution_count": 7,
   "metadata": {},
   "outputs": [
    {
     "name": "stdout",
     "output_type": "stream",
     "text": [
      "['PosClassBal', 'ClassBal']\tTrue\t5.551115123125783e-16\n",
      "['PredEqual', 'NegClassBal']\tTrue\t5.551115123125783e-16\n",
      "['EqOdd', 'DemoParity']\tTrue\t0.23686669988716902\n",
      "['EqOdd', 'PosClassBal', 'DemoParity']\tTrue\t0.2368682610345749\n",
      "['EqOdd', 'ClassBal', 'PredEqual', 'DemoParity']\tTrue\t0.23686780488958686\n",
      "['EqOdd', 'ClassBal', 'PredEqual', 'EqOpp', 'DemoParity']\tTrue\t0.23686625266408295\n",
      "['PosClassBal', 'DemoParity']\tTrue\t0.06537660169483889\n",
      "['Calibration', 'ClassBal', 'EqOpp', 'DemoParity']\tTrue\t0.15095048265751382\n",
      "['PosClassBal', 'NegClassBal', 'Calibration']\tFalse\tNone\n"
     ]
    },
    {
     "data": {
      "text/plain": [
       "'PCB, CB &  o  & 1.0000\\\\ PE, NCB &  o  & 1.0000\\\\ EOd, DP &  o  & 0.7631\\\\ EOd, PCB, DP &  o  & 0.7631\\\\ EOd, CB, PE, DP &  o  & 0.7631\\\\ EOd, CB, PE, EOp, DP &  o  & 0.7631\\\\ PCB, DP &  o  & 0.9346\\\\ CG, CB, EOp, DP &  o  & 0.8490\\\\ PCB, NCB, CG &  x  & -\\\\ '"
      ]
     },
     "execution_count": 7,
     "metadata": {},
     "output_type": "execute_result"
    }
   ],
   "source": [
    "some_names = [['PosClassBal', 'ClassBal'], \n",
    "              ['PredEqual', 'NegClassBal'],\n",
    "              ['EqOdd', 'DemoParity'],\n",
    "              ['EqOdd', 'PosClassBal', 'DemoParity'],\n",
    "              ['EqOdd', 'ClassBal', 'PredEqual', 'DemoParity'],\n",
    "              ['EqOdd', 'ClassBal', 'PredEqual', 'EqOpp', 'DemoParity'],\n",
    "              ['PosClassBal', 'DemoParity'], \n",
    "              ['Calibration', 'ClassBal', 'EqOpp', 'DemoParity'],\n",
    "              ['PosClassBal', 'NegClassBal', 'Calibration'],\n",
    "             ]\n",
    "dd = test_some_names(fm, some_names)\n",
    "res2text(dd)"
   ]
  },
  {
   "cell_type": "code",
   "execution_count": 8,
   "metadata": {},
   "outputs": [
    {
     "name": "stdout",
     "output_type": "stream",
     "text": [
      "Calibration,ClassBal,EqOpp,DemoParity\t0.0013749172258064205\n",
      "PosClassBal,NegClassBal,Calibration\t0.00036401748474461414\n"
     ]
    },
    {
     "data": {
      "text/plain": [
       "<matplotlib.axes._subplots.AxesSubplot at 0x7fc83030fa20>"
      ]
     },
     "execution_count": 8,
     "metadata": {},
     "output_type": "execute_result"
    },
    {
     "data": {
      "image/png": "[encoded data removed]",
      "text/plain": [
       "<Figure size 288x144 with 1 Axes>"
      ]
     },
     "metadata": {
      "needs_background": "light"
     },
     "output_type": "display_data"
    }
   ],
   "source": [
    "# First get (eps, delta) pairs for optimizing over different lambdas\n",
    "lmbds_used = get_eps_delta_over_lambdas(mats_dict, M_const, b_const, some_names)\n",
    "\n",
    "# NOTE manually set up the group for colors\n",
    "groups = [0, 0, 1, 1, 1, 1, 2, 3, 4]\n",
    "colors = ['m', 'b', 'g', 'r', 'k']\n",
    "plot_eps_delta_curves(fm, \n",
    "                      some_names, \n",
    "                      lmbds_used, \n",
    "                      groups=groups, \n",
    "                      colors=colors, \n",
    "                      data_name='Adult',\n",
    "                      save=True)"
   ]
  },
  {
   "cell_type": "code",
   "execution_count": 13,
   "metadata": {},
   "outputs": [
    {
     "data": {
      "text/plain": [
       "(array([[ 0.03480397,  0.        ,  0.        ,  0.        ,  0.20206777,\n",
       "          0.        ,  0.        ,  0.        ],\n",
       "        [ 0.        ,  0.        ,  0.29665268,  0.        ,  0.        ,\n",
       "          0.        , -0.46647559,  0.        ]]), array([[0.],\n",
       "        [0.]]), 'EqOdd')"
      ]
     },
     "execution_count": 13,
     "metadata": {},
     "output_type": "execute_result"
    }
   ],
   "source": [
    "## try to compute acc and MEO\n",
    "mats[0]"
   ]
  },
  {
   "cell_type": "code",
   "execution_count": 19,
   "metadata": {},
   "outputs": [
    {
     "data": {
      "text/plain": [
       "array([0.03480397, 0.        , 0.        , 0.        , 0.20206777,\n",
       "       0.        , 0.        , 0.        ])"
      ]
     },
     "execution_count": 19,
     "metadata": {},
     "output_type": "execute_result"
    }
   ],
   "source": [
    "mats_dict['EqOdd'][0][0]"
   ]
  },
  {
   "cell_type": "code",
   "execution_count": 20,
   "metadata": {},
   "outputs": [
    {
     "data": {
      "text/plain": [
       "array([ 0.        ,  0.        ,  0.29665268,  0.        ,  0.        ,\n",
       "        0.        , -0.46647559,  0.        ])"
      ]
     },
     "execution_count": 20,
     "metadata": {},
     "output_type": "execute_result"
    }
   ],
   "source": [
    "mats_dict['EqOdd'][0][1]"
   ]
  },
  {
   "cell_type": "code",
   "execution_count": 21,
   "metadata": {},
   "outputs": [
    {
     "data": {
      "text/plain": [
       "(0.10373681387448597, 0.06217699796140991)"
      ]
     },
     "execution_count": 21,
     "metadata": {},
     "output_type": "execute_result"
    }
   ],
   "source": []
  },
  {
   "cell_type": "code",
   "execution_count": null,
   "metadata": {},
   "outputs": [],
   "source": []
  },
  {
   "cell_type": "code",
   "execution_count": null,
   "metadata": {},
   "outputs": [],
   "source": []
  },
  {
   "cell_type": "code",
   "execution_count": null,
   "metadata": {},
   "outputs": [],
   "source": []
  },
  {
   "cell_type": "code",
   "execution_count": null,
   "metadata": {},
   "outputs": [],
   "source": []
  },
  {
   "cell_type": "code",
   "execution_count": null,
   "metadata": {},
   "outputs": [],
   "source": []
  },
  {
   "cell_type": "code",
   "execution_count": null,
   "metadata": {},
   "outputs": [],
   "source": []
  },
  {
   "cell_type": "code",
   "execution_count": 9,
   "metadata": {},
   "outputs": [
    {
     "data": {
      "image/png": "[encoded data removed]",
      "text/plain": [
       "<Figure size 144x144 with 2 Axes>"
      ]
     },
     "metadata": {
      "needs_background": "light"
     },
     "output_type": "display_data"
    }
   ],
   "source": [
    "# Multi-dimensional regularization for fairness definitions:\n",
    "name = ['EqOdd', 'DemoParity']\n",
    "a, b = plot_accuracy_contours(mats_dict, \n",
    "                       name, \n",
    "                       M_const, \n",
    "                       b_const, \n",
    "                       bound=(4,4),\n",
    "                       data_name='Adult',\n",
    "                       save=True)"
   ]
  },
  {
   "cell_type": "code",
   "execution_count": 17,
   "metadata": {},
   "outputs": [
    {
     "data": {
      "text/plain": [
       "array([<matplotlib.axes._subplots.AxesSubplot object at 0x7f19dc3323c8>,\n",
       "       <matplotlib.axes._subplots.AxesSubplot object at 0x7f196fe05c88>,\n",
       "       <matplotlib.axes._subplots.AxesSubplot object at 0x7f196fe2d208>],\n",
       "      dtype=object)"
      ]
     },
     "execution_count": 17,
     "metadata": {},
     "output_type": "execute_result"
    },
    {
     "data": {
      "image/png": "[encoded data removed]",
      "text/plain": [
       "<Figure size 648x144 with 3 Axes>"
      ]
     },
     "metadata": {},
     "output_type": "display_data"
    }
   ],
   "source": [
    "## Orderings\n",
    "# NOTE place in the order of adding to the rest.\n",
    "list_name = ['PosClassBal', 'DemoParity', 'EqOdd']\n",
    "plot_slices(mats_dict, list_name, M_const, b_const, save=True, data_name='Adult')"
   ]
  }
 ],
 "metadata": {
  "kernelspec": {
   "display_name": "Python 3",
   "language": "python",
   "name": "python3"
  },
  "language_info": {
   "codemirror_mode": {
    "name": "ipython",
    "version": 3
   },
   "file_extension": ".py",
   "mimetype": "text/x-python",
   "name": "python",
   "nbconvert_exporter": "python",
   "pygments_lexer": "ipython3",
   "version": "3.6.13"
  }
 },
 "nbformat": 4,
 "nbformat_minor": 4
}
